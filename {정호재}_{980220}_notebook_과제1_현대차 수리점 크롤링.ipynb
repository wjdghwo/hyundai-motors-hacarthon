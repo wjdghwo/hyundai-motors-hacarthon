{
 "cells": [
  {
   "cell_type": "code",
   "execution_count": 4,
   "metadata": {},
   "outputs": [],
   "source": [
    "from bs4 import BeautifulSoup\n",
    "from selenium import webdriver\n",
    "from time import sleep\n",
    "\n",
    "import pandas as pd"
   ]
  },
  {
   "cell_type": "code",
   "execution_count": 11,
   "metadata": {},
   "outputs": [],
   "source": [
    "driver = webdriver.Chrome('chromedriver.exe')\n",
    "sleep(3)\n",
    "\n",
    "driver.get('https://www.hyundai.com/kr/ko/customer-support/service-network/service-reservation-search')\n",
    "sleep(3)"
   ]
  },
  {
   "cell_type": "code",
   "execution_count": 12,
   "metadata": {},
   "outputs": [],
   "source": [
    "driver.find_element_by_xpath('''/html/body/div[2]/div[2]/button''').click()\n",
    "sleep(3)\n",
    "\n",
    "driver.find_element_by_xpath('''/html/body/div[2]/div[2]/button''').click()\n",
    "sleep(3)"
   ]
  },
  {
   "cell_type": "code",
   "execution_count": 13,
   "metadata": {},
   "outputs": [
    {
     "name": "stdout",
     "output_type": "stream",
     "text": [
      "더 이상 클릭할 버튼이 없습니다.\n"
     ]
    }
   ],
   "source": [
    "final_df = pd.DataFrame()\n",
    "try :\n",
    "    while True :\n",
    "        pageString = driver.page_source\n",
    "        bs = BeautifulSoup(pageString, 'html.parser')\n",
    "        filebox = bs.find_all('div', 'wrap-table')\n",
    "        file_box = filebox[0].find_all('tbody', id = 'listView')[0]\n",
    "        \n",
    "        store_name = []\n",
    "        store_add = []\n",
    "        store_tel = []\n",
    "        store_service = []\n",
    "        for i in range(len(file_box.find_all('tr'))) :\n",
    "            store_name.append(file_box.find_all('tr')[i].find_all('td')[0].text.strip())\n",
    "            store_add.append(file_box.find_all('tr')[i].find_all('td')[1].text)\n",
    "            store_tel.append(file_box.find_all('tr')[i].find_all('td')[2].find_all('span')[0].text)\n",
    "\n",
    "            service = ''\n",
    "            for j in range(len(file_box.find_all('tr')[i].find_all('td')[3].find_all('span'))) :\n",
    "                service += file_box.find_all('tr')[i].find_all('td')[3].find_all('span')[j].text\n",
    "            store_service.append(service)\n",
    "            \n",
    "        new_data = pd.DataFrame(data = {'업체명' : store_name,\n",
    "                                        '주소' : store_add,\n",
    "                                        '전화번호' : store_service})\n",
    "        final_df = pd.concat([final_df, new_data])\n",
    "        driver.find_element_by_xpath('''//*[@id=\"pageNavi\"]/button[12]''').click()\n",
    "        sleep(5)\n",
    "except:\n",
    "    print('더 이상 클릭할 버튼이 없습니다.')"
   ]
  },
  {
   "cell_type": "code",
   "execution_count": 14,
   "metadata": {},
   "outputs": [
    {
     "data": {
      "text/html": [
       "<div>\n",
       "<style scoped>\n",
       "    .dataframe tbody tr th:only-of-type {\n",
       "        vertical-align: middle;\n",
       "    }\n",
       "\n",
       "    .dataframe tbody tr th {\n",
       "        vertical-align: top;\n",
       "    }\n",
       "\n",
       "    .dataframe thead th {\n",
       "        text-align: right;\n",
       "    }\n",
       "</style>\n",
       "<table border=\"1\" class=\"dataframe\">\n",
       "  <thead>\n",
       "    <tr style=\"text-align: right;\">\n",
       "      <th></th>\n",
       "      <th>업체명</th>\n",
       "      <th>주소</th>\n",
       "      <th>전화번호</th>\n",
       "    </tr>\n",
       "  </thead>\n",
       "  <tbody>\n",
       "    <tr>\n",
       "      <th>0</th>\n",
       "      <td>(유)국제보링1급정비 종합블루핸즈</td>\n",
       "      <td>경상남도 창원시 마산회원구 내서읍 중리 공단로149</td>\n",
       "      <td>수소전기차 전담기술력 우수차체/도장 수리 우수</td>\n",
       "    </tr>\n",
       "    <tr>\n",
       "      <th>1</th>\n",
       "      <td>(유)대덕현대서비스 종합블루핸즈</td>\n",
       "      <td>대전광역시 대덕구 신탄진로 375 (와동)</td>\n",
       "      <td>소상특장 전담기술력 우수차체/도장 수리 우수</td>\n",
       "    </tr>\n",
       "    <tr>\n",
       "      <th>2</th>\n",
       "      <td>(유)동성자동차공업 종합블루핸즈</td>\n",
       "      <td>전라남도 여수시 연등8길 23 (연등동)</td>\n",
       "      <td>전기차 전담</td>\n",
       "    </tr>\n",
       "    <tr>\n",
       "      <th>3</th>\n",
       "      <td>(유)명성공업사 종합블루핸즈</td>\n",
       "      <td>전라남도 강진군 강진읍 강진공단길 20-5</td>\n",
       "      <td></td>\n",
       "    </tr>\n",
       "    <tr>\n",
       "      <th>4</th>\n",
       "      <td>(유)삽진공업사 종합블루핸즈</td>\n",
       "      <td>전라남도 목포시 대양로13번길 12 (연산동)</td>\n",
       "      <td>기술력 우수</td>\n",
       "    </tr>\n",
       "    <tr>\n",
       "      <th>...</th>\n",
       "      <td>...</td>\n",
       "      <td>...</td>\n",
       "      <td>...</td>\n",
       "    </tr>\n",
       "    <tr>\n",
       "      <th>5</th>\n",
       "      <td>현대수원시트 종합블루핸즈</td>\n",
       "      <td>경기도 용인시 기흥구 중부대로 137 (영덕동)</td>\n",
       "      <td></td>\n",
       "    </tr>\n",
       "    <tr>\n",
       "      <th>6</th>\n",
       "      <td>현대야탑써비스(주) 종합블루핸즈</td>\n",
       "      <td>경기도 성남시 분당구  판교로 582</td>\n",
       "      <td>기술력 우수차체/도장 수리 우수</td>\n",
       "    </tr>\n",
       "    <tr>\n",
       "      <th>7</th>\n",
       "      <td>현대연산서비스(주) 종합블루핸즈</td>\n",
       "      <td>부산광역시 연제구 과정로 198 (연산동)</td>\n",
       "      <td>기술력 우수차체/도장 수리 우수</td>\n",
       "    </tr>\n",
       "    <tr>\n",
       "      <th>8</th>\n",
       "      <td>현대영등포서비스(주) 종합블루핸즈</td>\n",
       "      <td>서울특별시 영등포구 경인로 780(문래동1가)</td>\n",
       "      <td>기술력 우수</td>\n",
       "    </tr>\n",
       "    <tr>\n",
       "      <th>9</th>\n",
       "      <td>현대자동차삼천리써비스 종합블루핸즈</td>\n",
       "      <td>경상북도 영천시 금호읍 금호로 338-32</td>\n",
       "      <td>소상특장 전담</td>\n",
       "    </tr>\n",
       "  </tbody>\n",
       "</table>\n",
       "<p>1310 rows × 3 columns</p>\n",
       "</div>"
      ],
      "text/plain": [
       "                   업체명                            주소  \\\n",
       "0   (유)국제보링1급정비 종합블루핸즈  경상남도 창원시 마산회원구 내서읍 중리 공단로149   \n",
       "1    (유)대덕현대서비스 종합블루핸즈       대전광역시 대덕구 신탄진로 375 (와동)   \n",
       "2    (유)동성자동차공업 종합블루핸즈        전라남도 여수시 연등8길 23 (연등동)   \n",
       "3      (유)명성공업사 종합블루핸즈       전라남도 강진군 강진읍 강진공단길 20-5   \n",
       "4      (유)삽진공업사 종합블루핸즈     전라남도 목포시 대양로13번길 12 (연산동)   \n",
       "..                 ...                           ...   \n",
       "5        현대수원시트 종합블루핸즈    경기도 용인시 기흥구 중부대로 137 (영덕동)   \n",
       "6    현대야탑써비스(주) 종합블루핸즈          경기도 성남시 분당구  판교로 582   \n",
       "7    현대연산서비스(주) 종합블루핸즈       부산광역시 연제구 과정로 198 (연산동)   \n",
       "8   현대영등포서비스(주) 종합블루핸즈     서울특별시 영등포구 경인로 780(문래동1가)   \n",
       "9   현대자동차삼천리써비스 종합블루핸즈       경상북도 영천시 금호읍 금호로 338-32   \n",
       "\n",
       "                         전화번호  \n",
       "0   수소전기차 전담기술력 우수차체/도장 수리 우수  \n",
       "1    소상특장 전담기술력 우수차체/도장 수리 우수  \n",
       "2                      전기차 전담  \n",
       "3                              \n",
       "4                      기술력 우수  \n",
       "..                        ...  \n",
       "5                              \n",
       "6           기술력 우수차체/도장 수리 우수  \n",
       "7           기술력 우수차체/도장 수리 우수  \n",
       "8                      기술력 우수  \n",
       "9                     소상특장 전담  \n",
       "\n",
       "[1310 rows x 3 columns]"
      ]
     },
     "execution_count": 14,
     "metadata": {},
     "output_type": "execute_result"
    }
   ],
   "source": [
    "final_df"
   ]
  },
  {
   "cell_type": "code",
   "execution_count": 15,
   "metadata": {},
   "outputs": [],
   "source": [
    "final_df.to_csv(\"현대차수리점.csv\", index=False, encoding='CP949')"
   ]
  }
 ],
 "metadata": {
  "kernelspec": {
   "display_name": "Python 3",
   "language": "python",
   "name": "python3"
  },
  "language_info": {
   "codemirror_mode": {
    "name": "ipython",
    "version": 3
   },
   "file_extension": ".py",
   "mimetype": "text/x-python",
   "name": "python",
   "nbconvert_exporter": "python",
   "pygments_lexer": "ipython3",
   "version": "3.7.6"
  }
 },
 "nbformat": 4,
 "nbformat_minor": 2
}
